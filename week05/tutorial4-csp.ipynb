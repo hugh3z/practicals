{
  "cells": [
    {
      "cell_type": "markdown",
      "metadata": {
        "id": "u-U8AtpG77aE"
      },
      "source": [
        "[![Open In Colab](https://colab.research.google.com/assets/colab-badge.svg)](https://colab.research.google.com/github/abdn-cs3033-ai/practicals/blob/main/week05/tutorial4-csp.ipynb)"
      ]
    },
    {
      "cell_type": "markdown",
      "metadata": {
        "id": "n_R5mPtE77aF"
      },
      "source": [
        "# CS3033: Artificial Intelligence\n",
        "\n",
        "## Tutorial 04: Constraint Satisfaction Problems\n",
        "\n",
        "#### Prof. Felipe Meneguzzi"
      ]
    },
    {
      "cell_type": "markdown",
      "metadata": {
        "id": "oWkET5DJ77aF"
      },
      "source": [
        "In order to run this tutorial, you need to download the auxiliary files from Github into your notebook, which we do with Jupyter's shell commands (if you downloaded the entire repo, the code below is not necessary)."
      ]
    },
    {
      "cell_type": "code",
      "execution_count": 3,
      "metadata": {
        "colab": {
          "base_uri": "https://localhost:8080/"
        },
        "id": "n1F_2hUW77aG",
        "outputId": "09d13dea-1c8f-4449-af77-8049185362b7"
      },
      "outputs": [
        {
          "output_type": "stream",
          "name": "stdout",
          "text": [
            "We are in Google colab, we need to clone the repo\n",
            "Cloning into 'practicals'...\n",
            "remote: Enumerating objects: 324, done.\u001b[K\n",
            "remote: Counting objects: 100% (55/55), done.\u001b[K\n",
            "remote: Compressing objects: 100% (35/35), done.\u001b[K\n",
            "remote: Total 324 (delta 27), reused 36 (delta 19), pack-reused 269 (from 1)\u001b[K\n",
            "Receiving objects: 100% (324/324), 11.37 MiB | 16.48 MiB/s, done.\n",
            "Resolving deltas: 100% (156/156), done.\n",
            "/content/practicals/week05\n",
            "Collecting z3-solver (from -r requirements.txt (line 1))\n",
            "  Downloading z3_solver-4.15.3.0-py3-none-manylinux_2_17_x86_64.manylinux2014_x86_64.whl.metadata (602 bytes)\n",
            "Downloading z3_solver-4.15.3.0-py3-none-manylinux_2_17_x86_64.manylinux2014_x86_64.whl (29.1 MB)\n",
            "\u001b[2K   \u001b[90m━━━━━━━━━━━━━━━━━━━━━━━━━━━━━━━━━━━━━━━━\u001b[0m \u001b[32m29.1/29.1 MB\u001b[0m \u001b[31m75.0 MB/s\u001b[0m eta \u001b[36m0:00:00\u001b[0m\n",
            "\u001b[?25hInstalling collected packages: z3-solver\n",
            "Successfully installed z3-solver-4.15.3.0\n"
          ]
        }
      ],
      "source": [
        "try:\n",
        "    import google.colab\n",
        "    print(\"We are in Google colab, we need to clone the repo\")\n",
        "    !git clone https://github.com/abdn-cs3033-ai/practicals.git\n",
        "    %cd practicals/week05\n",
        "    %pip install -r requirements.txt\n",
        "except:\n",
        "    print(\"Not in colab\")"
      ]
    },
    {
      "cell_type": "markdown",
      "metadata": {
        "id": "L9u2P85O77aG"
      },
      "source": [
        "Key to this tutorial is to learn how to encode problems in terms of variables and constraints. For this, we will use the [Z3 Theorem Prover](https://github.com/Z3Prover/z3/wiki) from Microsoft Research ([Z3](https://github.com/Z3Prover/z3) is open source and free to use).\n",
        "If you installed the ```requirements.txt``` file, the following code is not necessary.\n",
        "```bash\n",
        "!pip install z3-solver\n",
        "```"
      ]
    },
    {
      "cell_type": "markdown",
      "metadata": {
        "id": "JAKedYOa77aG"
      },
      "source": [
        "## N-Queens\n",
        "\n",
        "We return to the [N-Queens Puzzle](https://en.wikipedia.org/wiki/Eight_queens_puzzle).\n",
        "You will recall that this is the problem of placing $n$ chess queens on a chessboard so that no two queens threaten each other; thus, a solution requires that no two queens share the same row, column, or diagonal. The problem is to put $n$ non-attacking queens on an $n \\times n$ chessboard, for which solutions exist for all natural numbers $n$ except for $n = 2$ and $n = 3$. Below we show an example of a solution using iterative improvement, which we implemented in the previous tutorial.\n",
        "\n",
        "![n-Queens](img/nqueens-example.svg \"A sequence of valid moves for sliding-puzzle's navigation problem\")\n",
        "\n",
        "For this ungraded tutorial, we will implement the constraints that describe this problem and let the CSP solver do the hard work for us.\n",
        "\n",
        "We already provide you with an API for the N-Queens problem, which you can explore in [nqueens.py](../week04/nqueens.py), if you want to refresh your knowledge."
      ]
    },
    {
      "cell_type": "markdown",
      "metadata": {
        "id": "iRb5V2ka77aG"
      },
      "source": [
        "## N-Queens as a CSP\n",
        "\n",
        "Below, you will fill in the code for the constraints for the N-Queens problem using three types of constraints. Your code will be more readable if you can use Python's [list comprehensions](http://docs.python.org/tutorial/datastructures.html#list-comprehensions). We encode this problem exactly like we did in the local search tutorial. This means we use a python array of integers where each index represents the column of a queen on the board, and the number in each position of the array represents the row we place each queen. Thus, the solution to the example above would be encoded in the array ```[1, 3, 0, 2]```.\n",
        "The variables you will use are as follows:\n",
        "\n",
        "- ```n_queens``` represents the number of queens of our problem\n",
        "- ```Q``` represents the array, in Z3 [Integer](https://z3prover.github.io/api/html/z3.z3.html#-Int) variables\n",
        "- ```val_c``` represents the constraints on the value of each index in our array, you will need an array of constraints, each of which containing a [disjunction](https://z3prover.github.io/api/html/z3.z3.html#-And) of the numeric range. For example, if you want a specific integer to be between $1$ and $10$ (exclusive), you would write the following constraint:\n",
        "```python\n",
        "number = Int('i')\n",
        "constraint = And(1 < number, number < 10)\n",
        "```\n",
        "- ```col_c``` represents the constraints that each value in our array must be [Distinct](https://z3prover.github.io/api/html/z3.z3.html#-Distinct)\n",
        "- ```diag_c``` represents the constraints that no other queen must be in the diagonal. This is the trickiest constraint to define, as you will require a [conditional expression](https://z3prover.github.io/api/html/z3.z3.html#-If). First, recall that each element in our array is a distinct column. If `i == j`, then `Q[i] == Q[j]`, and we don't need to constrain the values of `Q[i]` or `Q[j]`. Second, if `i != j`, then we need to ensure that `Q[i] - Q[j] != i - j` (going up the diagonal), and `Q[i] - Q[j] != j - i` (going down de diagonal), for all possible indexes of `Q`."
      ]
    },
    {
      "cell_type": "code",
      "execution_count": 5,
      "metadata": {
        "colab": {
          "base_uri": "https://localhost:8080/"
        },
        "id": "ySwQNBuu77aH",
        "outputId": "d3478547-2dbc-4273-cbe3-fa40e2683cf6"
      },
      "outputs": [
        {
          "output_type": "stream",
          "name": "stdout",
          "text": [
            ". . . Q . . . .\n",
            ". Q . . . . . .\n",
            ". . . . . . . Q\n",
            ". . . . . Q . .\n",
            "Q . . . . . . .\n",
            ". . Q . . . . .\n",
            ". . . . Q . . .\n",
            ". . . . . . Q .\n",
            "\n",
            "\n"
          ]
        }
      ],
      "source": [
        "from z3 import Solver, Int, Distinct, If, And, sat\n",
        "from printBoard import printBoard\n",
        "s = Solver()\n",
        "\n",
        "n_queens = 8\n",
        "\n",
        "# We know each queen must be in a different row.\n",
        "# So, we represent each queen by a single integer: the column position\n",
        "Q = [ Int('Q_%i' % (i)) for i in range(n_queens) ]\n",
        "\n",
        "# Each queen is in a column {1, ... 8 }\n",
        "val_c = [And(0 <= Q[i], Q[i] < n_queens) for i in range(n_queens)]\n",
        "\n",
        "# At most one queen per column\n",
        "col_c = [Distinct(Q)]\n",
        "\n",
        "# Diagonal constraint\n",
        "diag_c = [\n",
        "    If(i ==j,\n",
        "      True,\n",
        "    And(Q[i] - Q[j] != i - j, Q[i] - Q[j] != j - i))\n",
        "    for i in range(n_queens) for j in range (i)]\n",
        "\n",
        "# Mix all constraints together\n",
        "s.add(val_c + col_c + diag_c)\n",
        "\n",
        "# And check whether the solver can satisfy our constraints\n",
        "if s.check() == sat:\n",
        "    m = s.model()\n",
        "    result = [[m.evaluate(Q[i]).as_long() for i in range(n_queens)]]\n",
        "    printBoard(result,0)\n",
        "else:\n",
        "    print(\"failed to solve\")"
      ]
    },
    {
      "cell_type": "markdown",
      "metadata": {
        "id": "Y9Hh2VfN77aH"
      },
      "source": [
        "### Comparison with Local Search Problems\n",
        "\n",
        "Go back to your implementation of the N-Queens problem, your implementation of the local search algorithms, and the source code in [nqueens.py](../week04/nqueens.py). How large is your description of the constraints in this practical versus the entire code of the problem description and the search procedure?"
      ]
    },
    {
      "cell_type": "markdown",
      "metadata": {
        "id": "KnNUBhaV77aH"
      },
      "source": [
        "## Sudoku Problems\n",
        "\n",
        "[Sudoku](https://en.wikipedia.org/wiki/Sudoku) is a popular type of puzzle which is particularly suitable for solving using a CSP formulation. The goal is to insert the numbers in the boxes to satisfy only one condition: each row, column and $3 \\times 3$ box must contain the digits $1$ through $9$ exactly once.\n",
        "\n",
        "![n-Queens](img/sudoku-example.svg \"A sequence of valid moves for sliding-puzzle's navigation problem\")\n",
        "\n",
        "The code below should encode the constraints for a sudoku problem in Z3. Different sudoku instances can be solved by modifying the matrix ```instance```."
      ]
    },
    {
      "cell_type": "code",
      "execution_count": 7,
      "metadata": {
        "colab": {
          "base_uri": "https://localhost:8080/",
          "height": 106
        },
        "id": "5Q7noTlx77aH",
        "outputId": "040bed66-b824-400e-b040-c1ec2b8b9ad7"
      },
      "outputs": [
        {
          "output_type": "error",
          "ename": "SyntaxError",
          "evalue": "invalid syntax (ipython-input-625825797.py, line 12)",
          "traceback": [
            "\u001b[0;36m  File \u001b[0;32m\"/tmp/ipython-input-625825797.py\"\u001b[0;36m, line \u001b[0;32m12\u001b[0m\n\u001b[0;31m    rows_c   = # YOUR CODE HERE\u001b[0m\n\u001b[0m               ^\u001b[0m\n\u001b[0;31mSyntaxError\u001b[0m\u001b[0;31m:\u001b[0m invalid syntax\n"
          ]
        }
      ],
      "source": [
        "from z3 import print_matrix\n",
        "# Sudoku using CSP\n",
        "\n",
        "# 9x9 matrix of integer variables\n",
        "X = [ [ Int(\"x_%s_%s\" % (i+1, j+1)) for j in range(9) ]\n",
        "      for i in range(9) ]\n",
        "\n",
        "# each cell contains a value in {1, ..., 9}\n",
        "cells_c  = [And(0 <= [i], [i] < 9) for i in range(9)]\n",
        "\n",
        "# each row contains a digit at most once\n",
        "rows_c   = # YOUR CODE HERE\n",
        "\n",
        "# each column contains a digit at most once\n",
        "cols_c   =\n",
        "\n",
        "# each 3x3 square contains a digit at most once\n",
        "sq_c     = # YOUR CODE HERE\n",
        "\n",
        "sudoku_c = cells_c + rows_c + cols_c + sq_c\n",
        "\n",
        "# sudoku instance, we use '0' for empty cells\n",
        "instance = ((5,3,0,0,7,0,0,0,0),\n",
        "            (6,0,0,1,9,5,0,0,0),\n",
        "            (0,9,8,0,0,0,0,6,0),\n",
        "            (8,0,0,0,6,0,0,0,3),\n",
        "            (4,0,0,8,0,3,0,0,1),\n",
        "            (7,0,0,0,2,0,0,0,6),\n",
        "            (0,6,0,0,0,0,2,8,0),\n",
        "            (0,0,0,4,1,9,0,0,5),\n",
        "            (0,0,0,0,8,0,0,7,9))\n",
        "\n",
        "instance_c = [ If(instance[i][j] == 0,\n",
        "                  True,\n",
        "                  X[i][j] == instance[i][j])\n",
        "               for i in range(9) for j in range(9) ]\n",
        "\n",
        "s = Solver()\n",
        "s.add(sudoku_c + instance_c)\n",
        "if s.check() == sat:\n",
        "    m = s.model()\n",
        "    r = [ [ m.evaluate(X[i][j]) for j in range(9) ]\n",
        "          for i in range(9) ]\n",
        "    print_matrix(r)\n",
        "else:\n",
        "    print(\"failed to solve\")"
      ]
    }
  ],
  "metadata": {
    "kernelspec": {
      "display_name": "Python 3.7.13 ('base')",
      "language": "python",
      "name": "python3"
    },
    "language_info": {
      "codemirror_mode": {
        "name": "ipython",
        "version": 3
      },
      "file_extension": ".py",
      "mimetype": "text/x-python",
      "name": "python",
      "nbconvert_exporter": "python",
      "pygments_lexer": "ipython3",
      "version": "3.7.13"
    },
    "vscode": {
      "interpreter": {
        "hash": "a04fbcb04a11c3a691703ca23ae4a78f9f717b538476169d44c620972eb30c1e"
      }
    },
    "colab": {
      "provenance": []
    }
  },
  "nbformat": 4,
  "nbformat_minor": 0
}